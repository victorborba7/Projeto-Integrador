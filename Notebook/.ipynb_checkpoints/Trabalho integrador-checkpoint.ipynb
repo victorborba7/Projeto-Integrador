{
 "cells": [
  {
   "cell_type": "code",
   "execution_count": null,
   "metadata": {},
   "outputs": [],
   "source": [
    "import pandas as pd\n",
    "import numpy as np\n",
    "import holoviews as hv\n",
    "from datetime import datetime, date, time\n",
    "import statsmodels.api as sm\n",
    "import matplotlib.pyplot as plt\n",
    "import param\n",
    "import panel as pn\n",
    "import seaborn as sns\n",
    "import altair as alt\n",
    "import folium\n",
    "import plotly as plt1\n",
    "import plotly.express as px\n",
    "import json\n",
    "from urllib.request import urlopen\n",
    "import hvplot.pandas\n",
    "from pandas_ods_reader import read_ods\n",
    "pn.extension\n",
    "plt.rc\n",
    "%matplotlib inline"
   ]
  },
  {
   "cell_type": "code",
   "execution_count": null,
   "metadata": {},
   "outputs": [],
   "source": [
    "dados = read_ods(\"BD_PRE.ods\", \"bd_pre\")"
   ]
  },
  {
   "cell_type": "code",
   "execution_count": null,
   "metadata": {},
   "outputs": [],
   "source": [
    "df = pd.DataFrame(dados[[\n",
    "    \"ANO_BASE\", \"TIPO\", \"OPERADORA\", \"ESTADO\", \"Q3\", \"Q4\", \"Q5\",\n",
    "    \"Q6\", \"Q7\", \"Q8\", \"Q8a\", \"Q9\", \"J1\", \"B1_1\", \"B1_2\",\n",
    "    \"C1_1\", \"C1_2\", \"D1\", \"D2_1\", \"D2_2\", \"D2_3\",\n",
    "    \"E1_1\", \"E1_2\", \"E1_3\", \"A1_1\", \"A1_2\", \"A1_3\", \"A1_4\",\n",
    "    \"A2_1\", \"A2_2\", \"A2_3\", \"A3\", \"A4\", \"A5\",\n",
    "    \"F1\", \"F2\", \"F3\", \"F4\", \"F5\", \"F6\", \"H0\"]])"
   ]
  },
  {
   "cell_type": "markdown",
   "metadata": {},
   "source": [
    "# Verificando porcentagens de cada valor para cada variável"
   ]
  },
  {
   "cell_type": "code",
   "execution_count": null,
   "metadata": {},
   "outputs": [],
   "source": [
    "for column in df.columns:\n",
    "    values = df[column].sort_values().unique()\n",
    "    for value in values:\n",
    "        print(column + \": \" + str(value) + \" = \" + str(df[df[column] == value].reset_index()[column].count() * 100 / df[column].count()) + \"%\")\n",
    "    print(\"Total: \" + str(df[column].count()))\n",
    "    print()"
   ]
  },
  {
   "cell_type": "code",
   "execution_count": null,
   "metadata": {},
   "outputs": [],
   "source": [
    "df = df.drop(columns=[\"F2\", \"F4\", \"F6\"])"
   ]
  },
  {
   "cell_type": "code",
   "execution_count": null,
   "metadata": {},
   "outputs": [],
   "source": [
    "df_new = df[(df['J1']<=11)]"
   ]
  },
  {
   "cell_type": "code",
   "execution_count": null,
   "metadata": {},
   "outputs": [],
   "source": [
    "df2 = df_new.groupby(['ANO_BASE', 'OPERADORA']).mean().reset_index()"
   ]
  },
  {
   "cell_type": "markdown",
   "metadata": {},
   "source": [
    "# Operadoras"
   ]
  },
  {
   "cell_type": "code",
   "execution_count": null,
   "metadata": {},
   "outputs": [],
   "source": [
    "alt.Chart(df2).mark_bar().encode(\n",
    "    column='ANO_BASE',\n",
    "    x='OPERADORA',\n",
    "    y = alt.Y('J1', scale=alt.Scale(domain=(6.5, 8.5))),\n",
    "    color = alt.Color('OPERADORA', legend=None),\n",
    "    tooltip = ['J1']\n",
    ").properties(width= 200)"
   ]
  },
  {
   "cell_type": "code",
   "execution_count": null,
   "metadata": {},
   "outputs": [],
   "source": [
    "df['OPERADORA'].value_counts()"
   ]
  },
  {
   "cell_type": "code",
   "execution_count": null,
   "metadata": {},
   "outputs": [],
   "source": [
    "df2 = df2[df2['OPERADORA']!='NEXTEL']"
   ]
  },
  {
   "cell_type": "code",
   "execution_count": null,
   "metadata": {},
   "outputs": [],
   "source": [
    "alt.Chart(df2).mark_bar().encode(\n",
    "    column='ANO_BASE',\n",
    "    x='OPERADORA',\n",
    "    y = alt.Y('J1', scale=alt.Scale(domain=(6.5, 8.5))),\n",
    "    color = alt.Color('OPERADORA', legend=None),\n",
    "    tooltip = ['J1']\n",
    ").properties(width= 200)"
   ]
  },
  {
   "cell_type": "code",
   "execution_count": null,
   "metadata": {},
   "outputs": [],
   "source": [
    "df1 = pd.DataFrame(df.groupby(['ANO_BASE', 'OPERADORA', 'ESTADO']).mean().reset_index())\n",
    "df1.J1 = df1.J1.round(1)"
   ]
  },
  {
   "cell_type": "code",
   "execution_count": null,
   "metadata": {},
   "outputs": [],
   "source": [
    "#Mapa Brasil\n",
    "with urlopen('https://raw.githubusercontent.com/codeforamerica/click_that_hood/master/public/data/brazil-states.geojson') as response:\n",
    "    Brasil=json.load(response) # Javascrip object notation \n",
    "    Brasil"
   ]
  },
  {
   "cell_type": "code",
   "execution_count": null,
   "metadata": {},
   "outputs": [],
   "source": [
    "state_id_map = {}\n",
    "for feature in Brasil['features']:\n",
    " feature['id'] = feature['properties']['name']\n",
    "state_id_map[feature['properties']['sigla']] = feature['id']"
   ]
  },
  {
   "cell_type": "code",
   "execution_count": null,
   "metadata": {},
   "outputs": [],
   "source": [
    "#Coordenadas dos Estados\n",
    "Coordenadas = pd.read_csv('https://raw.githubusercontent.com/victorborba7/Projeto-Integrador/master/Estados_Coordenadas.csv', encoding=\"latin1\", sep=\";\")\n",
    "df2 = df1.rename(columns={'J1': 'Média'})"
   ]
  },
  {
   "cell_type": "code",
   "execution_count": null,
   "metadata": {},
   "outputs": [],
   "source": [
    "#Merge df com coordenadas\n",
    "base = pd.merge(df2,\n",
    "                Coordenadas[['Estado',\"Sigla\",'Longitude', 'Latitude']],\n",
    "                how=\"inner\", left_on=\"ESTADO\", right_on=\"Sigla\")\n",
    "base"
   ]
  },
  {
   "cell_type": "code",
   "execution_count": null,
   "metadata": {},
   "outputs": [],
   "source": [
    "# Mapa Brasil --------- Todas Operadoras\n",
    "fig = px.choropleth(\n",
    " base, \n",
    " locations = 'Estado', \n",
    " geojson = Brasil, \n",
    " color = 'Média', \n",
    " hover_name = 'Estado', \n",
    " hover_data =[\"Média\",\"Longitude\",\"Latitude\"],\n",
    " title = \"Como os clientes avaliam o atendimento da operadora (Média por Estado de 2015 à 2019)\", \n",
    " animation_frame = 'ANO_BASE',)\n",
    "fig.update_geos(fitbounds = \"locations\", visible = False)\n",
    "fig.show()"
   ]
  },
  {
   "cell_type": "code",
   "execution_count": null,
   "metadata": {
    "scrolled": true
   },
   "outputs": [],
   "source": [
    "#Dash\n",
    "plt1.offline.plot(fig, filename = 'map.html')"
   ]
  },
  {
   "cell_type": "code",
   "execution_count": null,
   "metadata": {},
   "outputs": [],
   "source": [
    "dashnps = df[['OPERADORA', 'ESTADO', 'J1']].sort_values(by=\"ESTADO\")"
   ]
  },
  {
   "cell_type": "code",
   "execution_count": null,
   "metadata": {},
   "outputs": [],
   "source": [
    "class RatingsDashboard(param.Parameterized):\n",
    "\n",
    "    # drop down selector widget containing the list of\n",
    "    \n",
    "    ESTADO = param.ObjectSelector(default='AC',\n",
    "                             objects=list(dashnps.ESTADO.unique()))\n",
    "\n",
    "    # create data set containing only the data applicable \n",
    "    # to the state in the drop down selector\n",
    "    def get_data(self):\n",
    "        class_df = dashnps[(dashnps.ESTADO==self.ESTADO)].copy()\n",
    "        return class_df\n",
    "\n",
    "    # seaborn box plot for the chosen state\n",
    "    def box_view(self):\n",
    "        data = self.get_data() \n",
    "        ax = sns.histplot(data['J1'], palette='rainbow', bins=[0, 1, 2, 3, 4, 5, 6, 7, 8, 9, 10])\n",
    "        ax.set(xlim=(0, 10))\n",
    "        ax.set_xlabel('Satisfação', fontsize = 12)\n",
    "        ax.set_ylabel('Contagem', fontsize = 12)\n",
    "        plt.close()\n",
    "        return ax.figure"
   ]
  },
  {
   "cell_type": "code",
   "execution_count": null,
   "metadata": {},
   "outputs": [],
   "source": [
    "# create an instance of the class\n",
    "rd = RatingsDashboard(name='')\n",
    "\n",
    "# create a title for the dashboard\n",
    "dashboard_title = '# Satisfação por Estado'\n",
    "\n",
    "# create a dashboard, defining the layout as one column containing the\n",
    "# dashboard title, dashboard description, 'state' drop down selector,\n",
    "# box plot, and data table\n",
    "dashboard = pn.Column(dashboard_title,   \n",
    "                      rd.param,       # 'state' drop down selector\n",
    "                      rd.box_view,    # box plot\n",
    "                      \n",
    "                     )"
   ]
  },
  {
   "cell_type": "code",
   "execution_count": null,
   "metadata": {},
   "outputs": [],
   "source": [
    "dashboard"
   ]
  },
  {
   "cell_type": "code",
   "execution_count": null,
   "metadata": {
    "scrolled": true
   },
   "outputs": [],
   "source": [
    "df3 = df2[['ANO_BASE',\"OPERADORA\",'J1','B1_1', 'B1_2','C1_1', 'C1_2', 'D2_1', 'D2_3', 'E1_1', 'E1_2', 'E1_3', 'A2_1', 'A2_2',\n",
    "                    'A2_3', 'A3', 'A4', 'A5']]\n",
    "\n",
    "df3.head()"
   ]
  },
  {
   "cell_type": "code",
   "execution_count": null,
   "metadata": {},
   "outputs": [],
   "source": [
    "def gera_grafico(y, Ano):\n",
    "    teste = df3[df3[\"ANO_BASE\"] == float(Ano)]\n",
    "    return pn.Column(teste.hvplot.bar(x = \"OPERADORA\",\n",
    "                            y = y,\n",
    "                            color = \"OPERADORA\",\n",
    "                            ylim=(0,10),\n",
    "                            cmap=\"rainbow\",\n",
    "                            legend=False,\n",
    "                            xlabel=\"Operadoras\"), teste.hvplot.table([\"OPERADORA\", y]))"
   ]
  },
  {
   "cell_type": "code",
   "execution_count": null,
   "metadata": {},
   "outputs": [],
   "source": [
    "variaveis = ['J1','B1_1', 'B1_2','C1_1', 'C1_2', 'D2_1', 'D2_3', 'E1_1', 'E1_2', 'E1_3', 'A2_1', 'A2_2',\n",
    "             'A2_3', 'A3', 'A4', 'A5']\n",
    "\n",
    "kw = dict(y=variaveis, Ano=df3[\"ANO_BASE\"].unique().astype(\"int32\").astype(str))\n",
    "kw\n",
    "res = pn.interact(gera_grafico, **kw)\n",
    "res[0][0].name = \"Avaliações\""
   ]
  },
  {
   "cell_type": "code",
   "execution_count": null,
   "metadata": {},
   "outputs": [],
   "source": [
    "dash = pn.Column('# Média de avaliação das operadoras', pn.Row(res[0][0], res[0][1]), res[1])"
   ]
  },
  {
   "cell_type": "code",
   "execution_count": null,
   "metadata": {
    "scrolled": true
   },
   "outputs": [],
   "source": [
    "dash"
   ]
  },
  {
   "cell_type": "code",
   "execution_count": null,
   "metadata": {
    "scrolled": true
   },
   "outputs": [],
   "source": [
    "df4 = df_new[['ANO_BASE',\"OPERADORA\",'J1','B1_1', 'B1_2','C1_1', 'C1_2', 'D2_1', 'D2_3', 'E1_1', 'E1_2', 'E1_3', 'A2_1', 'A2_2',\n",
    "                    'A2_3', 'A3', 'A4', 'A5']]\n",
    "\n",
    "df4.head()"
   ]
  },
  {
   "cell_type": "code",
   "execution_count": null,
   "metadata": {},
   "outputs": [],
   "source": [
    "def gera_grafico(y, Ano):\n",
    "    teste = df4[df4[\"ANO_BASE\"] == float(Ano)]\n",
    "    return teste.hvplot.box(by = \"OPERADORA\",\n",
    "                            y = y,\n",
    "                            color = \"OPERADORA\",\n",
    "                            cmap=\"rainbow\",\n",
    "                            legend=False,\n",
    "                            xlabel=\"Operadoras\")"
   ]
  },
  {
   "cell_type": "code",
   "execution_count": null,
   "metadata": {},
   "outputs": [],
   "source": [
    "variaveis = ['J1','B1_1', 'B1_2','C1_1', 'C1_2', 'D2_1', 'D2_3', 'E1_1', 'E1_2', 'E1_3', 'A2_1', 'A2_2',\n",
    "             'A2_3', 'A3', 'A4', 'A5']\n",
    "\n",
    "kw = dict(y=variaveis, Ano=df3[\"ANO_BASE\"].unique().astype(\"int32\").astype(str))\n",
    "kw\n",
    "res = pn.interact(gera_grafico, **kw)\n",
    "res[0][0].name = \"Avaliações\""
   ]
  },
  {
   "cell_type": "code",
   "execution_count": null,
   "metadata": {},
   "outputs": [],
   "source": [
    "dash = pn.Column('# Média de avaliação das operadoras', pn.Row(res[0][0], res[0][1]), res[1])"
   ]
  },
  {
   "cell_type": "code",
   "execution_count": null,
   "metadata": {},
   "outputs": [],
   "source": [
    "dash"
   ]
  },
  {
   "cell_type": "code",
   "execution_count": null,
   "metadata": {},
   "outputs": [],
   "source": [
    "df_fltrd = df[['J1', 'Q9']]"
   ]
  },
  {
   "cell_type": "code",
   "execution_count": null,
   "metadata": {
    "scrolled": true
   },
   "outputs": [],
   "source": [
    "df_fltrd_f = df_fltrd.loc[(df_fltrd['Q9'] == 1)]\n",
    "\n",
    "df_fltrd_m = df_fltrd.loc[(df_fltrd['Q9'] == 2)]\n",
    "\n",
    "\n",
    "fig, ax = plt.subplots(figsize = (8, 6))\n",
    "plt.hist(df_fltrd_f['J1'], alpha=0.5, color = 'red', bins=[0, 1, 2, 3, 4, 5, 6, 7, 8, 9, 10])\n",
    "plt.hist(df_fltrd_m['J1'], alpha=0.5, color = 'blue', bins=[0, 1, 2, 3, 4, 5, 6, 7, 8, 9, 10])\n",
    "\n",
    "ax.set_title('Satisfação por Gênero (2015-2019)', fontsize = 20)\n",
    "ax.set_xlabel('NPS', fontsize = 12)\n",
    "ax.set_ylabel('Número de Entrevistados', fontsize = 12)\n",
    "ax.legend(['Mulheres', 'Homens'], loc='upper left')\n",
    "ax.set(xlim=(0, 10))\n",
    "\n",
    "plt.show()"
   ]
  },
  {
   "cell_type": "code",
   "execution_count": null,
   "metadata": {},
   "outputs": [],
   "source": [
    "df.to_excel(\"output.xlsx\")"
   ]
  }
 ],
 "metadata": {
  "kernelspec": {
   "display_name": "Python 3",
   "language": "python",
   "name": "python3"
  },
  "language_info": {
   "codemirror_mode": {
    "name": "ipython",
    "version": 3
   },
   "file_extension": ".py",
   "mimetype": "text/x-python",
   "name": "python",
   "nbconvert_exporter": "python",
   "pygments_lexer": "ipython3",
   "version": "3.7.10"
  }
 },
 "nbformat": 4,
 "nbformat_minor": 4
}
